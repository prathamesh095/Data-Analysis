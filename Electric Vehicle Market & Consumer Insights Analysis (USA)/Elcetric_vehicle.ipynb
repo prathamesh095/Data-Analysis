{
 "cells": [
  {
   "cell_type": "markdown",
   "metadata": {},
   "source": [
    "\"\"\"\n",
    "# Electric Vehicle Market & Consumer Insights Analysis\n",
    "\n",
    "# **Table of Contents**\n",
    "\n",
    "## **1️⃣ Market & Consumer Insights**\n",
    "1. [Most popular EV models and manufacturers](#q1)  \n",
    "2. [EV adoption by county, city, and postal code](#q2)  \n",
    "3. [Popularity trends by model year](#q3)  \n",
    "4. [Electric range variation by manufacturer and model](#q4)  \n",
    "5. [BEV vs. PHEV percentage distribution](#q5)  \n",
    "6. [EV ownership distribution based on census tract data](#q6)  \n",
    "\n",
    "## **2️⃣ Infrastructure & Utility Planning**\n",
    "7. [Which areas have the highest number of EVs, indicating a **need for more charging stations**?](#q7)  \n",
    "8. [Correlation of EV distribution with electric utilities](#q8)  \n",
    "9. [Electric utilities serving the most EV users](#q9)  \n",
    "10. [Electric range variation across regions](#q10)  \n",
    "11. [Counties with the highest concentration of long-range EVs](#q11)  \n",
    "12. [Regions preferring PHEVs over BEVs](#q12)  \n",
    "\n",
    "## **3️⃣ Financial & Policy Impact Analysis**\n",
    "13. [Base MSRP variation by vehicle type and model](#q13)  \n",
    "14. [Price distribution of CAFV-eligible vs. non-eligible vehicles](#q14)  \n",
    "15. [Higher-priced EVs in specific counties or census tracts](#q15)  \n",
    "16. [CAFV eligibility impact on EV sales trends](#q16)  \n",
    "17. [Counties with higher adoption of CAFV-eligible vehicles](#q17)  \n",
    "18. [EV market share changes over time](#q18)  \n",
    "19. [Manufacturers/models with highest CAFV eligibility](#q19)  \n",
    "\n",
    "## **4️⃣ Environmental & Regulatory Considerations**\n",
    "20. [Impact of policies/incentives on EV adoption rates](#q20)  \n",
    "\n",
    "---\n",
    "\n",
    "## Column Descriptions\n",
    "\n",
    "- **VIN (1-10)**: The first 10 characters of the Vehicle Identification Number (VIN), uniquely identifying each vehicle.\n",
    "- **County**: The county where the vehicle is registered, useful for analyzing EV adoption at a county level.\n",
    "- **City**: The city where the vehicle is registered, providing insights at a local level.\n",
    "- **State**: The state where the vehicle is registered (e.g., \"WA\" for Washington).\n",
    "- **Postal Code**: The ZIP code of the registered vehicle, aiding demographic and geographic analysis.\n",
    "- **Model Year**: The manufacturing year of the vehicle, helping track the age of EVs on the road.\n",
    "- **Make**: The vehicle manufacturer (e.g., Tesla, Chevrolet, BMW).\n",
    "- **Model**: The specific model of the vehicle (e.g., Model S, Bolt EV, i3).\n",
    "- **Electric Vehicle Type**:\n",
    "  - **Battery Electric Vehicle (BEV)**: Fully electric, no gasoline engine.\n",
    "  - **Plug-in Hybrid Electric Vehicle (PHEV)**: Contains both a battery-powered motor and a gasoline engine.\n",
    "- **Clean Alternative Fuel Vehicle (CAFV) Eligibility**: Indicates if the vehicle qualifies as a Clean Alternative Fuel Vehicle based on government regulations.\n",
    "- **Electric Range**: The estimated number of miles the vehicle can travel on a full charge.\n",
    "- **Base MSRP**: The Manufacturer’s Suggested Retail Price (MSRP) of the vehicle, useful for price trend analysis.\n",
    "- **Legislative District**: The district where the vehicle is registered, useful for policy and regulation tracking.\n",
    "- **DOL Vehicle ID**: Unique identifier assigned to the vehicle by the Department of Licensing (DOL).\n",
    "- **Vehicle Location**: Geographic coordinates (latitude and longitude) indicating where the vehicle is registered.\n",
    "- **Electric Utility**: The name of the electricity provider for the registered location, useful for analyzing EV charging infrastructure.\n",
    "- **2020 Census Tract**: A geographic identifier used in census data, aiding demographic analysis related to EV ownership.\n",
    "\n",
    "---\n",
    "\"\"\"\n"
   ]
  },
  {
   "cell_type": "markdown",
   "metadata": {},
   "source": [
    "### Importing the libraries"
   ]
  },
  {
   "cell_type": "code",
   "execution_count": null,
   "metadata": {},
   "outputs": [],
   "source": [
    "#Imporing the liunraries\n",
    "import pandas as pd\n",
    "import numpy as np\n",
    "from sklearn.impute import SimpleImputer\n",
    "import plotly.express as px\n",
    "import matplotlib.pyplot as plt\n",
    "import plotly.graph_objects as go\n",
    "\n",
    "import scipy.stats as stats\n",
    "\n",
    "\n",
    "import warnings\n"
   ]
  },
  {
   "cell_type": "markdown",
   "metadata": {},
   "source": [
    "## **Loading The Dataset**"
   ]
  },
  {
   "cell_type": "code",
   "execution_count": null,
   "metadata": {},
   "outputs": [],
   "source": [
    "df = pd.read_csv('Electric_Vehicle_Population_Data.csv')  #loading the Data \n",
    "df.head() #Displaying the first 5 rows of data\n"
   ]
  },
  {
   "cell_type": "markdown",
   "metadata": {},
   "source": [
    "## Data Preprocessing\n",
    "\n",
    "In this section, we perform data cleaning and preprocessing to prepare the dataset for analysis.  "
   ]
  },
  {
   "cell_type": "code",
   "execution_count": null,
   "metadata": {},
   "outputs": [],
   "source": [
    "df.shape #Sape of data"
   ]
  },
  {
   "cell_type": "code",
   "execution_count": null,
   "metadata": {},
   "outputs": [],
   "source": [
    "# information about the data\n",
    "df.info()"
   ]
  },
  {
   "cell_type": "markdown",
   "metadata": {},
   "source": [
    "### Processing the null Values"
   ]
  },
  {
   "cell_type": "code",
   "execution_count": null,
   "metadata": {},
   "outputs": [],
   "source": [
    "#checking the null values presentage in data\n",
    "percentage_missingVal = (df.isna().sum() / len(df) * 100).round(2).to_frame(name='null Percentage' )\n",
    "percentage_missingVal.index.name = 'Column Name'\n",
    "percentage_missingVal"
   ]
  },
  {
   "cell_type": "code",
   "execution_count": null,
   "metadata": {},
   "outputs": [],
   "source": [
    "#Comparing the both colums \n",
    "df['Legislative District'].equals(df['Legislative District']) \n",
    "\n",
    "\"\"\"\n",
    "The above code will return True if the two columns are equal, and False if not.\n",
    "so Base on Its results we can say that both columns represents samp infornmation so we can deleat one of them\n",
    "\"\"\"\n",
    "df.drop('Legislative District', axis=1 , inplace=True) # deleating the column\n"
   ]
  },
  {
   "cell_type": "code",
   "execution_count": null,
   "metadata": {},
   "outputs": [],
   "source": [
    "# column in lst are the columns less than 1 percentage of missinf valaues\n",
    "imput = SimpleImputer(strategy='mean') # replacng null values with mean of that column\n",
    "lst = ['Base MSRP', 'Electric Range']\n",
    "\n",
    "for col in lst:\n",
    "    df[col] = imput.fit_transform(df[[col]])\n",
    "\n",
    "\n",
    "# Other columns have  very leas amoount of missing values so we can dero the , it not going to impact the data\n",
    "df.dropna(inplace=True)\n",
    "\n",
    "\n",
    "\"\"\"\n",
    "    Now We Do not have any Missing values in data\n",
    "\"\"\""
   ]
  },
  {
   "cell_type": "code",
   "execution_count": null,
   "metadata": {},
   "outputs": [],
   "source": [
    "#checking null values in data\n",
    "df.isna().sum()"
   ]
  },
  {
   "cell_type": "code",
   "execution_count": null,
   "metadata": {},
   "outputs": [],
   "source": [
    "print(df['Clean Alternative Fuel Vehicle (CAFV) Eligibility'].unique())\n",
    "\n",
    "# Replacing the values in the column to make it more Readable\n",
    "df.loc[:, 'Clean Alternative Fuel Vehicle (CAFV) Eligibility'] = df['Clean Alternative Fuel Vehicle (CAFV) Eligibility'].replace({\n",
    "    'Not eligible due to low battery range': 'Not eligible',\n",
    "    'Clean Alternative Fuel Vehicle Eligible': 'Eligible',\n",
    "    'Eligibility unknown as battery range has not been researched': 'Unknown'\n",
    "})\n"
   ]
  },
  {
   "cell_type": "code",
   "execution_count": null,
   "metadata": {},
   "outputs": [],
   "source": [
    "# Splitting the  Vehicle Location column to get the Latitude and Longitude\n",
    "df['Longitude'] = df['Vehicle Location'].apply(lambda x : x.split(' ' )[1][1:] if pd.notnull(x) else None)\n",
    "df['Latitude'] = df['Vehicle Location'].apply(lambda x : x.split(' ')[2][:-1] if pd.notnull(x) else None)\n",
    "\n",
    "# Droping the Vehicle Location column\n",
    "df.drop('Vehicle Location', axis=1, inplace=True)"
   ]
  },
  {
   "cell_type": "markdown",
   "metadata": {},
   "source": [
    "## **Exploratory Data Analysis (EDA)**\n",
    "\n",
    "Exploratory Data Analysis (EDA) helps in understanding the dataset through summary statistics and visualizations.  \n"
   ]
  },
  {
   "cell_type": "markdown",
   "metadata": {},
   "source": [
    "### **1️⃣ Market & Consumer Insights**"
   ]
  },
  {
   "cell_type": "markdown",
   "metadata": {},
   "source": [
    "#### 1. What are the most popular **electric vehicle (EV) models** and manufacturers in different counties/cities?"
   ]
  },
  {
   "cell_type": "code",
   "execution_count": null,
   "metadata": {},
   "outputs": [],
   "source": [
    "# Group by County, Make, and Model to get the count of EVs\n",
    "top_ev_city = df.groupby(['City', 'Make', 'Model']).size().reset_index(name='Ev Count')\n",
    "top_ev_city['Car Model'] = top_ev_city['Make'] + ' ' + top_ev_city['Model']\n",
    "top_ev_city.drop(['Make', 'Model'], axis=1, inplace=True)\n",
    "\n",
    "# Group by County and sum the EV counts\n",
    "top_ev_city = top_ev_city.groupby(['City'])['Ev Count'].sum().reset_index().sort_values(by='Ev Count', ascending=False).head(10)\n",
    "\n",
    "# Visualization\n",
    "fig = px.bar(top_ev_city, x='City', y='Ev Count', text='Ev Count', title='Top 10 Cities with Highest Number of EVs',\n",
    "             labels={'County': 'County', 'Ev Count': 'Number of EVs'})\n",
    "fig.update_traces(marker_color='rgb(158,202,225)', marker_line_color='rgb(8,48,107)', marker_line_width=1.5, textposition='outside')\n",
    "fig.update_layout(plot_bgcolor='rgba(0,0,0,0)', paper_bgcolor='white', font=dict(size=14), xaxis=dict(tickangle=-45), yaxis=dict(showgrid=True, gridcolor='lightgray'))\n",
    "fig.show()\n"
   ]
  },
  {
   "cell_type": "markdown",
   "metadata": {},
   "source": [
    " ### **1. Seattle Leads EV Adoption**  \n",
    "- Seattle has **35,864 EVs**, significantly higher than other cities.  \n",
    "- **Action:** Expand **charging networks** and **EV incentives** to sustain growth.  \n",
    "\n",
    "### **2. Growth Potential in Mid-Tier Cities**  \n",
    "- Bellevue (10,966), Vancouver (8,103), and Redmond (7,772) show **moderate adoption**.  \n",
    "- **Action:** Invest in **charging infrastructure, corporate EV programs, and awareness campaigns**.  \n",
    "\n",
    "### **3. Low-Adoption Cities Need Strategic Focus**  \n",
    "- Olympia (5,419) and Tacoma (4,818) have **lower EV adoption** due to potential barriers.  \n",
    "- **Action:** Implement **localized incentives, subsidized home chargers, and public EV policies**.  \n",
    "\n",
    "### **4. Infrastructure & Long-Term Strategy**  \n",
    "- **Seattle’s high adoption** requires **fast-charging expansion** and smart-grid integration.  \n",
    "- **Action:** Use **data-driven demand analysis** to plan charging station growth.  \n",
    "\n",
    "### **Key Recommendations**  \n",
    "✅ Expand **EV charging networks** in high-adoption cities.  \n",
    "✅ Launch **incentives & promotional campaigns** in mid-tier cities.  \n",
    "✅ Address adoption barriers in **low-EV cities** through research and targeted policies.  \n",
    "\n",
    "These actions will drive **sustainable EV adoption and long-term market growth**.  \n"
   ]
  },
  {
   "cell_type": "code",
   "execution_count": null,
   "metadata": {},
   "outputs": [],
   "source": [
    "# Group by County and Make, then count EV registrations\n",
    "county_make_counts = df.groupby([\"County\", \"Make\"]).size().reset_index(name=\"Ev Count\")\n",
    "\n",
    "# Find the manufacturer with the highest count per county\n",
    "top_manufacturer_per_county = county_make_counts.loc[county_make_counts.groupby(\"County\")[\"Ev Count\"].idxmax()]\n",
    "\n",
    "# Sort by highest count for better readability\n",
    "top_manufacturer_per_county = top_manufacturer_per_county.sort_values(by=\"Ev Count\", ascending=False)\n",
    "\n",
    "# Display the top manufacturers in each county\n",
    "top_manufacturer_per_county.head(10).style.background_gradient(cmap='Reds')\n"
   ]
  },
  {
   "cell_type": "code",
   "execution_count": null,
   "metadata": {},
   "outputs": [],
   "source": [
    "# Group by city and Make, then count EV registrations\n",
    "top_manufaturer_city = df.groupby(['City','Make']).size().reset_index(name='Ev Count')\n",
    "# manufacturer with highest count\n",
    "top_manufaturer_city = top_manufaturer_city.loc[top_manufaturer_city.groupby('City')['Ev Count'].idxmax()]\n",
    "#sortin\n",
    "top_manufaturer_city = top_manufaturer_city.sort_values(by='Ev Count' , ascending=False).head(10)\n",
    "# Display the top manufacturers in each city\n",
    "top_manufaturer_city.style.background_gradient(cmap='Purples')"
   ]
  },
  {
   "cell_type": "markdown",
   "metadata": {},
   "source": [
    "\n",
    "### **Key Observations:**  \n",
    "1. **Seattle Leads Tesla Registrations**  \n",
    "   - With **13,191 Tesla EVs**, Seattle has the **highest adoption**, indicating strong brand presence and charging infrastructure.  \n",
    "\n",
    "2. **Tesla Dominates Across Multiple Cities**  \n",
    "   - Bellevue (**6,418**), Redmond (**4,497**), and Bothell (**4,223**) follow, showing Tesla's strong market share.  \n",
    "   - This suggests Tesla’s **widespread popularity** in urban and suburban areas.  \n",
    "\n",
    "3. **Growth Opportunities in Mid-Sized Cities**  \n",
    "   - Cities like Vancouver (**3,179**) and Renton (**3,048**) show **moderate adoption**, indicating potential for further growth with incentives and infrastructure expansion.  \n",
    "\n",
    "4. **Strategic Expansion for Tesla**  \n",
    "   - In lower-ranked cities like **Kent (2,070) and Lynnwood (2,014)**, increasing **charging infrastructure, dealership presence, and localized incentives** can boost adoption.  \n",
    "\n",
    "### **Recommendations:**  \n",
    "✅ **Enhance Tesla Supercharger networks** in high-demand cities.  \n",
    "✅ **Target marketing & financing options** for mid-tier cities.  \n",
    "✅ **Expand presence in emerging EV hubs** (Kent, Lynnwood).  \n",
    "\n",
    "Tesla's dominance highlights the **importance of infrastructure, consumer trust, and premium EV offerings** in driving adoption.  \n"
   ]
  },
  {
   "cell_type": "markdown",
   "metadata": {},
   "source": [
    "#### 2. How does the **adoption of EVs vary by county, city, and postal code**?"
   ]
  },
  {
   "cell_type": "code",
   "execution_count": null,
   "metadata": {},
   "outputs": [],
   "source": [
    "# Grouping and sorting EV adoption by County, City, and Postal Code\n",
    "city_ev_adoption = df.groupby(['County', 'City', 'Postal Code']).size().reset_index(name='EV Count')\n",
    "city_ev_adoption = city_ev_adoption.sort_values(by='EV Count', ascending=False)\n",
    "\n",
    "city_ev_adoption['Postal Code'] = city_ev_adoption['Postal Code'].astype(int)\n",
    "# Apply a sequential color gradient only to 'EV Count'\n",
    "styled_df = city_ev_adoption.head(10).style.background_gradient(subset=['EV Count'], cmap='YlOrRd')\n",
    "\n",
    "styled_df"
   ]
  },
  {
   "cell_type": "markdown",
   "metadata": {},
   "source": [
    "### **EV Adoption Insights by County, City, and Postal Code**  \n",
    "\n",
    "### **1. King County Dominates EV Adoption**  \n",
    "- Majority of high EV adoption areas are in **King County**, with cities like **Redmond (5,499), Kirkland (3,590), and Bellevue (3,463)** leading.  \n",
    "- Suggests **better infrastructure, higher income demographics, and strong EV policies**.  \n",
    "\n",
    "### **2. Snohomish County Shows Growth Potential**  \n",
    "- **Bothell (3,309) in Snohomish County** ranks high, indicating increasing EV adoption beyond King County.  \n",
    "- Potential for **charging infrastructure expansion and incentive programs**.  \n",
    "\n",
    "### **3. Postal Code Variations Indicate Localized Trends**  \n",
    "- Certain ZIP codes (98052, 98033, 98006) have higher EV counts, implying **localized policy effectiveness and consumer preference shifts**.  \n",
    "- High-income regions may have **greater early adoption**, requiring **scaling strategies** for broader accessibility.  \n",
    "\n",
    "### **Recommendations**  \n",
    "✅ Expand **charging stations** in emerging EV hubs.  \n",
    "✅ Offer **targeted incentives** in lower-adoption regions.  \n",
    "✅ Use **ZIP code-level insights** for localized marketing and infrastructure planning.  \n",
    "\n",
    "This data can help optimize **EV expansion strategies and regional policy-making**. 🚗⚡  \n"
   ]
  },
  {
   "cell_type": "markdown",
   "metadata": {},
   "source": [
    "### 3. Which vehicle makes and models are growing in popularity over different **model years**?"
   ]
  },
  {
   "cell_type": "code",
   "execution_count": null,
   "metadata": {},
   "outputs": [],
   "source": [
    "# Gropping Model year , Make , model to get the popularity of each make and its model over the years\n",
    "Model_popularity_byYear = df.groupby(['Model Year','Make', 'Model']).size().reset_index(name='EVs').sort_values(by='Model Year' )\n",
    "#Creating a new column which includes Manufacturer and Thier Evs model \n",
    "Model_popularity_byYear['Comapny Model'] = Model_popularity_byYear['Make'] + ' ' + Model_popularity_byYear['Model']\n",
    "# Now we have company Model column so we can deop mak and model column\n",
    "Model_popularity_byYear.drop(['Make','Model'] , axis=1, inplace=True)\n",
    "Model_popularity_byYear"
   ]
  },
  {
   "cell_type": "code",
   "execution_count": null,
   "metadata": {},
   "outputs": [],
   "source": [
    "# Create a line chart\n",
    "fig = px.line(\n",
    "    Model_popularity_byYear, \n",
    "    x=\"Model Year\", \n",
    "    y=\"EVs\", \n",
    "    color=\"Comapny Model\",\n",
    "    title=\"EV Model Popularity Growth Over the Years\",\n",
    "    labels={\"Model Year\": \"Year\", \"EVs\": \"Number of EVs\", \"Comapny Model\": \"Manufacturer & Model\"},\n",
    "    markers=True\n",
    ")\n",
    "\n",
    "# Update layout for better readability & larger size\n",
    "fig.update_layout(\n",
    "    xaxis_title=\"Model Year\",\n",
    "    yaxis_title=\"Number of EVs\",\n",
    "    legend_title=\"EV Models\",\n",
    "    hovermode=\"x unified\",\n",
    "    template=\"plotly_white\",\n",
    "    width=1200,  # Increase width\n",
    "    height=700   # Increase height\n",
    ")\n",
    "\n",
    "# Show the plot\n",
    "fig.show()\n"
   ]
  },
  {
   "cell_type": "markdown",
   "metadata": {},
   "source": [
    "### **EV Make & Model Popularity Trends Over Model Years**  \n",
    "\n",
    "### **1. Early Adoption (1999 - 2010)**  \n",
    "- **Ford Ranger (1999-2000)** and **Toyota RAV4 (2002-2003)** were among the **earliest EV models**, indicating limited options and lower adoption.  \n",
    "- **Tesla Roadster (2008)** marked the start of premium EVs gaining traction.  \n",
    "\n",
    "### **2. Growth Phase (2010 - 2020)**  \n",
    "- Major EV adoption surge seen post-2010 with **Tesla, Nissan, and Chevrolet** leading the market.  \n",
    "- Widening model range shows increasing consumer interest and manufacturer investment.  \n",
    "\n",
    "### **3. Recent & Future Growth (2020 - 2025)**  \n",
    "- **Kia (EV9, Niro, Sorento) and Genesis (GV60)** emerging as strong contenders.  \n",
    "- **Luxury brands like Volvo (XC90) are expanding EV offerings**, signaling market diversification.  \n",
    "\n",
    "### **Key Takeaways**  \n",
    "✅ **Tesla pioneered** modern EV adoption; legacy brands are now catching up.  \n",
    "✅ **SUVs & crossovers (e.g., Kia Sorento, Volvo XC90)** are gaining popularity.  \n",
    "✅ **Future growth expected across multiple brands**, reflecting **increased competition & EV affordability**.  \n",
    "\n",
    "Understanding these trends helps manufacturers, policymakers, and dealers **align strategies for future EV demand**. 🚗⚡  \n"
   ]
  },
  {
   "cell_type": "markdown",
   "metadata": {},
   "source": [
    "### 4. How does the **electric range** vary among different manufacturers and models?"
   ]
  },
  {
   "cell_type": "code",
   "execution_count": null,
   "metadata": {},
   "outputs": [],
   "source": [
    "# gropping electric range , model and manufacturer to get their variation in range\n",
    "variation_in_electric_range = df[['Electric Range','Model','Make']].sort_values(by='Electric Range' , ascending=False)\n",
    "#dropping dublicate to get only distincts\n",
    "variation_in_electric_range.drop_duplicates(subset='Model')"
   ]
  },
  {
   "cell_type": "code",
   "execution_count": null,
   "metadata": {},
   "outputs": [],
   "source": [
    "# Visulistion For Elctric range of  EV model and their manufacturer\n",
    "fig = px.scatter(\n",
    "    variation_in_electric_range,\n",
    "    x=\"Make\",\n",
    "    y=\"Electric Range\",\n",
    "    color=\"Make\",\n",
    "    size=\"Electric Range\",\n",
    "    hover_data=[\"Model\"],\n",
    "    title=\"Electric Range Distribution by Manufacturer\",\n",
    "    labels={\"Electric Range\": \"Electric Range (miles)\", \"Make\": \"Manufacturer\"},\n",
    ")\n",
    "\n",
    "fig.update_layout(template=\"plotly_white\", width=1000, height=600)\n",
    "fig.show()\n"
   ]
  },
  {
   "cell_type": "markdown",
   "metadata": {},
   "source": [
    "### **Electric Range Variation Across Manufacturers & Models**  \n",
    "\n",
    "### **1. High-Range EVs Dominate the Market**  \n",
    "- **Top manufacturers (Tesla, Lucid, Rivian)** offer the **longest electric ranges**, exceeding **300-500 miles per charge**.  \n",
    "- These models cater to **long-distance travelers and premium EV buyers**.  \n",
    "\n",
    "### **2. Mid-Range EVs Gaining Popularity**  \n",
    "- **Brands like Hyundai, Kia, and Ford** offer EVs with **200-300 miles range**, balancing affordability with range efficiency.  \n",
    "- Ideal for **urban and suburban drivers** who need reliable daily commuting options.  \n",
    "\n",
    "### **3. Lower-Range EVs & City Cars**  \n",
    "- **Early EV models and budget-friendly brands** still provide **<150 miles of range**.  \n",
    "- Best suited for **short-distance city commuting and fleet operations**.  \n",
    "\n",
    "### **Key Takeaways**  \n",
    "✅ **Long-range EVs** (Tesla, Lucid) lead, catering to premium markets.  \n",
    "✅ **Mid-range EVs** (Kia, Hyundai, Ford) balance cost and range, expanding accessibility.  \n",
    "✅ **Short-range EVs** still relevant for **urban use and affordability**.  \n",
    "\n",
    "Understanding **range variations helps buyers and policymakers** optimize **charging infrastructure and market positioning**. 🚗⚡  \n"
   ]
  },
  {
   "cell_type": "markdown",
   "metadata": {},
   "source": [
    "### 5. What percentage of vehicles are **Battery Electric Vehicles (BEV)** vs. **Plug-in Hybrid Electric Vehicles (PHEV)**?"
   ]
  },
  {
   "cell_type": "code",
   "execution_count": null,
   "metadata": {},
   "outputs": [],
   "source": [
    "# Count each type of Electric Vehicle\n",
    "evs_battery_type = df['Electric Vehicle Type'].value_counts().reset_index()\n",
    "evs_battery_type.columns = ['Electric Vehicle Type', 'Count']\n",
    "\n",
    "# Create the pie chart\n",
    "fig = px.pie(\n",
    "    evs_battery_type,\n",
    "    values=\"Count\",\n",
    "    names=\"Electric Vehicle Type\",\n",
    "    title=\"Electric Vehicle Distribution by Battery Type\",\n",
    "    hole=0.4,  # Creates a donut chart for better visualization\n",
    "    color_discrete_sequence=px.colors.sequential.Blues_r  # Better color scheme\n",
    ")\n",
    "\n",
    "# Improve layout for better readability\n",
    "fig.update_traces(textinfo=\"percent+label\", pull=[0.05] * len(evs_battery_type))  # Slightly pull out slices for emphasis\n",
    "fig.update_layout(width=800, height=500, showlegend=True)\n",
    "\n",
    "# Show the plot\n",
    "fig.show()"
   ]
  },
  {
   "cell_type": "markdown",
   "metadata": {},
   "source": [
    "### **Electric Vehicle Distribution by Battery Type**  \n",
    "\n",
    "### **1. BEVs Dominate the Market**  \n",
    "- **Battery Electric Vehicles (BEVs) make up 79.1%** of the total EV market.  \n",
    "- BEVs operate **entirely on electricity**, reducing carbon emissions and **eliminating reliance on gasoline**.  \n",
    "\n",
    "### **2. PHEVs Hold a Smaller Share**  \n",
    "- **Plug-in Hybrid Electric Vehicles (PHEVs) account for 20.9%** of the total EV fleet.  \n",
    "- These vehicles use both **electric power and gasoline**, offering flexibility but still contributing to fuel consumption.  \n",
    "\n",
    "### **Key Takeaways**  \n",
    "✅ **Majority adoption of BEVs** signals growing confidence in all-electric mobility.  \n",
    "✅ **PHEVs remain relevant** for consumers needing extended range with gas backup.  \n",
    "✅ **Policy & infrastructure focus should prioritize charging networks** to support full BEV transition.  \n",
    "\n",
    "This insight helps guide **future investments in charging infrastructure, incentives, and EV technology development**. 🚗⚡  \n"
   ]
  },
  {
   "cell_type": "markdown",
   "metadata": {},
   "source": [
    "### 6. What is the distribution of **EV ownership based on census tract data**?"
   ]
  },
  {
   "cell_type": "code",
   "execution_count": null,
   "metadata": {},
   "outputs": [],
   "source": [
    "# Grouping data by 2020 Census Tract and counting EVs in each tract\n",
    "census_distribution = df[\"2020 Census Tract\"].value_counts().sort_values(ascending=False)\n",
    "\n",
    "# Plotting the distribution\n",
    "plt.figure(figsize=(12, 6))\n",
    "plt.hist(census_distribution, bins=50, color='blue', edgecolor='black', alpha=0.7)\n",
    "plt.xlabel(\"Number of EVs per Census Tract\")\n",
    "plt.ylabel(\"Frequency (Number of Census Tracts)\")\n",
    "plt.title(\"Distribution of EV Ownership Across Census Tracts\")\n",
    "plt.grid(axis=\"y\", linestyle=\"--\", alpha=0.7)\n",
    "plt.show()\n"
   ]
  },
  {
   "cell_type": "markdown",
   "metadata": {},
   "source": [
    "### **Distribution of EV Ownership Across Census Tracts**  \n",
    "\n",
    "### **1. Skewed Distribution of EV Ownership**  \n",
    "- The histogram shows that **most census tracts have low EV ownership**, with **a few tracts having significantly higher numbers**.  \n",
    "- A **right-skewed distribution** indicates that EV adoption is concentrated in specific areas rather than evenly spread.  \n",
    "\n",
    "### **2. Majority of Census Tracts Have Low EV Counts**  \n",
    "- Most census tracts have **fewer than 100 EVs**.  \n",
    "- A few tracts, however, have **over 1000 EVs**, likely reflecting **urban centers with better charging infrastructure and higher income levels**.  \n",
    "\n",
    "### **Key Takeaways**  \n",
    "✅ **EV adoption is not uniform**—some areas have significantly higher penetration than others.  \n",
    "✅ **Targeted policies** and **incentives** can help encourage adoption in lower-adoption areas.  \n",
    "✅ **Expanding charging infrastructure** in underserved census tracts could boost adoption rates.  \n",
    "\n",
    "These insights can **help guide infrastructure development, incentives, and EV promotion strategies** to ensure equitable adoption. 🚗⚡  \n"
   ]
  },
  {
   "cell_type": "markdown",
   "metadata": {},
   "source": [
    "### **2️⃣ Infrastructure & Utility Planning**"
   ]
  },
  {
   "cell_type": "markdown",
   "metadata": {},
   "source": [
    "### 7. Which areas have the highest number of EVs, indicating a **need for more charging stations**?"
   ]
  },
  {
   "cell_type": "code",
   "execution_count": null,
   "metadata": {},
   "outputs": [],
   "source": [
    "# Getting count of evs for each Postal Code indecating the need of charging station\n",
    "area_ev_count = df.groupby(['City' , 'Postal Code']).size().reset_index(name='Evs Count').sort_values(by='Evs Count' , ascending=False)\n",
    "#typecasting the postal code colum\n",
    "area_ev_count['Postal Code'] = area_ev_count['Postal Code'].astype(int)\n",
    "#Displaying only top 20 cities whith their postal code\n",
    "area_ev_count.head(20).style.background_gradient(subset='Evs Count',cmap='Reds')"
   ]
  },
  {
   "cell_type": "markdown",
   "metadata": {},
   "source": [
    "### **High EV Adoption Areas & Charging Station Demand**  \n",
    "\n",
    "### **1. Cities & Postal Codes with the Highest EV Counts**  \n",
    "- **Redmond (98052) leads with 5,499 EVs**, indicating a **strong demand for more charging stations**.  \n",
    "- Other high-adoption areas include **Kirkland (98033), Bellevue (98006), Bothell (98012), and Seattle (98115)**, all with **3,000+ EVs**.  \n",
    "\n",
    "### **2. Implications for Charging Infrastructure**  \n",
    "🚗 **Urban & suburban areas need expanded charging networks** to meet growing demand.  \n",
    "⚡ **Redmond, Bellevue, Kirkland, and Seattle require priority investment** in fast-charging stations.  \n",
    "🏡 **Residential & workplace charging solutions** can enhance convenience in these high-adoption areas.  \n",
    "\n",
    "### **Key Takeaways**  \n",
    "✅ **Infrastructure planning should focus on high-EV-count areas** for better accessibility.  \n",
    "✅ **Encouraging public-private partnerships** can accelerate charging station expansion.  \n",
    "✅ **Data-driven expansion** ensures optimal placement of new charging stations.  \n",
    "\n",
    "📌 **Next Steps:** Identify specific charging gaps & propose strategic locations for new installations! 🚀⚡  \n"
   ]
  },
  {
   "cell_type": "markdown",
   "metadata": {},
   "source": [
    "### 8. How is the distribution of EVs correlated with **different electric utilities**?"
   ]
  },
  {
   "cell_type": "code",
   "execution_count": null,
   "metadata": {},
   "outputs": [],
   "source": [
    "# Preprocessing the \"Electric Utility\" column\n",
    "# Function to clean and standardize the electric utility names\n",
    "def clean_utility(utility):\n",
    "    if pd.isna(utility):\n",
    "        return \"Unknown\"\n",
    "    utility = utility.title()  # Convert to title case for consistency\n",
    "    utility = utility.replace(\"||\", \", \").replace(\"|\", \", \")  # Standardize separators\n",
    "    return utility.strip()\n",
    "\n",
    "# Apply cleaning function\n",
    "df[\"Electric Utility\"] = df[\"Electric Utility\"].apply(clean_utility)\n",
    "\n",
    "# Group by cleaned electric utility names and count EVs\n",
    "ev_by_cleaned_utility = df.groupby(\"Electric Utility\").size().reset_index(name=\"Evs Count\").sort_values(by=\"Evs Count\", ascending=False)\n",
    "\n",
    "\n",
    "# Create scatter plot\n",
    "fig = px.scatter(\n",
    "    ev_by_cleaned_utility,\n",
    "    x=\"Evs Count\",\n",
    "    y=\"Electric Utility\",\n",
    "    size=\"Evs Count\",\n",
    "    title=\"EV Distribution Across Electric Utilities\",\n",
    "    labels={\"Evs Count\": \"Number of EVs\", \"Electric Utility\": \"Electric Utility Provider\"},\n",
    "    template=\"plotly_dark\",\n",
    "    color='Evs Count'\n",
    ")\n",
    "\n",
    "# Show the plot\n",
    "fig.show()\n",
    "\n"
   ]
  },
  {
   "cell_type": "code",
   "execution_count": null,
   "metadata": {},
   "outputs": [],
   "source": [
    "# Create a contingency table (EV counts per Electric Utility)\n",
    "contingency_table = ev_by_cleaned_utility[\"Evs Count\"].values\n",
    "\n",
    "# Perform the Chi-Square Test\n",
    "chi2_stat, p_value = stats.chisquare(contingency_table)\n",
    "\n",
    "# Print results\n",
    "print(f\"Chi-Square Statistic: {chi2_stat:.2f}\")\n",
    "print(f\"P-Value: {p_value:.5f}\")\n",
    "\n",
    "# Interpretation\n",
    "if p_value < 0.05:\n",
    "    print(\"✅ The distribution of EVs across different electric utilities is statistically significant.\")\n",
    "else:\n",
    "    print(\"❌ The distribution of EVs across different electric utilities is NOT significantly different.\")\n"
   ]
  },
  {
   "cell_type": "markdown",
   "metadata": {},
   "source": [
    "### 🔌 EV Distribution Across Electric Utilities\n",
    "\n",
    "#### 🔍 Key Observations  \n",
    "- **Bonneville Power Administration** serves multiple regions with high EV adoption.  \n",
    "- **Puget Sound Energy Inc. & City of Tacoma (WA)** have the highest EV counts.  \n",
    "- **Smaller utilities** have lower EV penetration.  \n",
    "\n",
    "## ⚡ Implications  \n",
    "- **Expand charging infrastructure** in high-demand areas.  \n",
    "- **Optimize grid load** with demand-based pricing.  \n",
    "- **Promote adoption** in low-EV regions via incentives.  \n",
    "\n"
   ]
  },
  {
   "cell_type": "markdown",
   "metadata": {},
   "source": [
    "### 9. Are certain **electric utilities serving more EV users** than others?\n",
    "\n",
    "### 🔌 EV Distribution Among Electric Utilities\n",
    "\n",
    "Some electric utilities serve a significantly higher number of EV users compared to others. This could be due to factors such as:\n",
    "- **Urban vs. Rural Distribution:** Higher EV adoption in urban areas with better charging infrastructure.\n",
    "- **Utility Policies & Incentives:** Some utilities offer better incentives for EV adoption.\n",
    "- **Grid Capacity & Coverage:** Larger utilities with extensive coverage naturally serve more EVs.\n",
    "\n",
    "📊 **Insight:** Identifying high-density EV areas can help utilities optimize grid management and charging infrastructure planning.\n"
   ]
  },
  {
   "cell_type": "markdown",
   "metadata": {},
   "source": [
    "### 10. How does the **electric range of EVs** vary across different regions?"
   ]
  },
  {
   "cell_type": "code",
   "execution_count": null,
   "metadata": {},
   "outputs": [],
   "source": [
    "# Grouping data by County and State to get the sum of Electric Range\n",
    "electric_range_by_region = df.groupby(['County', 'State'])['Electric Range'].mean().reset_index()\n",
    "\n",
    "# Sorting the data by Electric Range in descending order\n",
    "electric_range_by_region = electric_range_by_region.sort_values(by='Electric Range',\n",
    "                                                                 ascending=False).head(20)\n",
    "\n",
    "# Visualization\n",
    "fig = px.bar(\n",
    "    electric_range_by_region,\n",
    "    x='County',\n",
    "    y='Electric Range',\n",
    "    color='State',\n",
    "    title='Top 20 Counties by Total Electric Range of EVs',\n",
    "    labels={'County': 'County', 'Electric Range': 'Total Electric Range (miles)'},\n",
    "    text='Electric Range'\n",
    ")\n",
    "\n",
    "fig.update_traces(textposition='outside')\n",
    "fig.update_layout(\n",
    "    plot_bgcolor='rgba(0,0,0,0)',\n",
    "    paper_bgcolor='white',\n",
    "    font=dict(size=14),\n",
    "    xaxis=dict(tickangle=-45),\n",
    "    yaxis=dict(showgrid=True, gridcolor='lightgray')\n",
    ")\n",
    "\n",
    "fig.show()"
   ]
  },
  {
   "cell_type": "markdown",
   "metadata": {},
   "source": [
    "The visualization above highlights the **top 20 counties** with the highest total electric range of EVs. **St. Louis, MO** leads with the highest total electric range of **322 miles**, followed by **Rockingham, NH (308 miles)** and **Palm Beach, FL (291 miles)**. \n",
    "\n",
    "This indicates that certain regions have a higher concentration of long-range EVs, possibly due to **better charging infrastructure, incentives, or consumer preferences for higher-range electric vehicles**.\n"
   ]
  },
  {
   "cell_type": "markdown",
   "metadata": {},
   "source": [
    "### 11. Which counties have the **highest concentration of long-range EVs**, suggesting early adoption trends?"
   ]
  },
  {
   "cell_type": "code",
   "execution_count": null,
   "metadata": {},
   "outputs": [],
   "source": [
    "long_range_evs_county = df.groupby(['County'])['Electric Range'].mean().reset_index(name='Range').sort_values(by='Range', ascending=False)\n",
    "long_range_evs_county.head(10).style.background_gradient(cmap='Blues')"
   ]
  },
  {
   "cell_type": "markdown",
   "metadata": {},
   "source": [
    "\n",
    "Counties like **St. Louis (322 miles), Rockingham (308 miles), and Palm Beach (291 miles)** have the highest average EV range, indicating early adoption trends. These areas likely have **better charging infrastructure, incentives, or a preference for long-range EVs**, driving higher adoption rates.\n"
   ]
  },
  {
   "cell_type": "markdown",
   "metadata": {},
   "source": [
    "### 12. Are some regions **more inclined to adopt PHEVs rather than BEVs**, indicating a lack of charging infrastructure?"
   ]
  },
  {
   "cell_type": "code",
   "execution_count": null,
   "metadata": {},
   "outputs": [],
   "source": [
    "# Countung the each electric type accurance\n",
    "battery_infra = pd.DataFrame(df['Electric Vehicle Type'].value_counts())\n",
    "#renaming the column\n",
    "battery_infra.columns = ['Evs Count']\n",
    "#Sum of all the evs count\n",
    "tot = np.sum(battery_infra['Evs Count'])\n",
    "#percentage of each electric vehicle type\n",
    "battery_infra['Perc'] = (battery_infra['Evs Count']*100 / tot)\n",
    "# displaying\n",
    "battery_infra.style.background_gradient(cmap='Reds')\n"
   ]
  },
  {
   "cell_type": "markdown",
   "metadata": {},
   "source": [
    "- **BEVs constitute 79.1%** of the total EVs, while **PHEVs make up 20.9%**.  \n",
    "- A **higher proportion of PHEVs in certain regions** suggests concerns about **charging infrastructure availability**.  \n",
    "- PHEVs provide flexibility by using both electricity and fuel, making them preferable where **charging access is limited**.  \n",
    "- **Expanding public charging networks** could encourage a shift from PHEVs to BEVs, accelerating EV adoption.  "
   ]
  },
  {
   "cell_type": "code",
   "execution_count": null,
   "metadata": {},
   "outputs": [],
   "source": [
    "# No. Of BEV Vehicles in each county\n",
    "BEV_ev= df[df['Electric Vehicle Type'] == 'Battery Electric Vehicle (BEV)']\n",
    "\n",
    "# counting the each accurance of county\n",
    "ele_type = BEV_ev['County'].value_counts()\n",
    "ele_type = pd.DataFrame(ele_type)\n",
    "\n",
    "# Find counties where EV count is above average\n",
    "average_ev_count = ele_type['count'].mean()\n",
    "above_average_counties = ele_type[ele_type['count'] > average_ev_count]\n",
    "\n",
    "above_average_counties\n"
   ]
  },
  {
   "cell_type": "markdown",
   "metadata": {},
   "source": [
    "- **High PHEV adoption in certain counties** suggests reliance on plug-in hybrids due to **insufficient charging infrastructure**.  \n",
    "- **Counties with above-average BEV adoption** indicate a **well-developed charging network** and greater acceptance of fully electric vehicles.  \n",
    "- Comparing PHEV-dominant counties with BEV-rich areas can **pinpoint locations needing charging infrastructure expansion**.  \n",
    "- **Targeted investment in public charging stations** could shift PHEV users toward BEVs, driving full electrification.  "
   ]
  },
  {
   "cell_type": "code",
   "execution_count": null,
   "metadata": {},
   "outputs": [],
   "source": [
    "#Getting the count\n",
    "porr_battery_infra=df[df['Electric Vehicle Type'] == 'Plug-in Hybrid Electric Vehicle (PHEV)']\n",
    "porr_battery_infra=porr_battery_infra['County'].value_counts().to_frame()\n",
    "porr_battery_infra"
   ]
  },
  {
   "cell_type": "markdown",
   "metadata": {},
   "source": [
    "\n",
    "- **King County leads in PHEV adoption** with **21,144 vehicles**, highlighting a potential **need for better charging facilities**.  \n",
    "- **Snohomish (4,497), Pierce (3,957), Clark (3,372), and Thurston (1,980) Counties** also show significant PHEV numbers.  \n",
    "- A **higher PHEV concentration** suggests that **drivers may be hesitant to switch to BEVs** due to limited charging availability.  \n",
    "- **Investing in fast-charging stations** in these regions can encourage a shift toward fully electric vehicles.  \n"
   ]
  },
  {
   "cell_type": "code",
   "execution_count": null,
   "metadata": {},
   "outputs": [],
   "source": [
    "Poor_last = porr_battery_infra.index.unique() #countiest with PHEV evs\n",
    "lst = list(above_average_counties.index)  # Above Avg BEV adoption rate counties"
   ]
  },
  {
   "cell_type": "code",
   "execution_count": null,
   "metadata": {},
   "outputs": [],
   "source": [
    "# Countries that are above avg BEH but still good no. of peoples are cosnsidering battery as along with gas engine\n",
    "for county in lst:\n",
    "    if county in Poor_last:\n",
    "            print(county) #"
   ]
  },
  {
   "cell_type": "markdown",
   "metadata": {},
   "source": [
    "\n",
    "- **Key Counties:** King, Snohomish, Pierce, Clark, Thurston, Kitsap, Spokane, Whatcom, Benton, Skagit, Island, Chelan, Yakima.  \n",
    "- Despite having an **above-average number of BEVs**, these counties still show a **considerable number of PHEV users**.  \n",
    "- This suggests that **residents may perceive charging infrastructure as insufficient**, leading them to prefer PHEVs over BEVs.  \n",
    "- **Expanding fast-charging networks** in these areas could accelerate BEV adoption and reduce reliance on gasoline.  "
   ]
  },
  {
   "cell_type": "markdown",
   "metadata": {},
   "source": [
    "### **3️⃣ Financial & Policy Impact Analysis**"
   ]
  },
  {
   "cell_type": "markdown",
   "metadata": {},
   "source": [
    "### 13. How does the **Base MSRP (Manufacturer Suggested Retail Price)** vary by vehicle type and model?"
   ]
  },
  {
   "cell_type": "code",
   "execution_count": null,
   "metadata": {},
   "outputs": [],
   "source": [
    "suggested_base_msrp=df.groupby(['Make','Model'])['Base MSRP'].mean().reset_index(name=\"suggested Base_MSRP\").sort_values(by='suggested Base_MSRP', \n",
    "                                                                                                                         ascending=False).round()\n",
    "# Remove zero MSRP values\n",
    "dsuggested_base_msrp_filtered = suggested_base_msrp[suggested_base_msrp[\"suggested Base_MSRP\"] > 0].head(10)\n",
    "# Plotting the bar chart using plotly\n",
    "fig = px.bar(\n",
    "    dsuggested_base_msrp_filtered,\n",
    "    x=dsuggested_base_msrp_filtered['Make']  +  ' '  + dsuggested_base_msrp_filtered['Model'],\n",
    "    y='suggested Base_MSRP',\n",
    "    title='Suggested Base MSRP of Electric Vehicles by Make and Model',\n",
    "    labels={'Make': 'Make', 'suggested Base_MSRP': 'Suggested Base MSRP'},\n",
    "    text='suggested Base_MSRP'\n",
    ")\n",
    "\n",
    "fig.update_layout(\n",
    "    xaxis_title='Make',\n",
    "    yaxis_title='Suggested Base MSRP',\n",
    "    legend_title='Model',\n",
    "    template='plotly_white',\n",
    "    xaxis=dict(tickangle=-45)\n",
    ")\n",
    "\n",
    "fig.show()"
   ]
  },
  {
   "cell_type": "markdown",
   "metadata": {},
   "source": [
    "- **Porsche 918** stands out with a significantly high MSRP of **$845,000**, making it a luxury EV.  \n",
    "- **Tesla Roadster** and **Fisker Karma** follow at **$103,178** and **$102,000**, indicating premium pricing.  \n",
    "- Most mainstream EVs, such as the **Kia Soul EV ($32,363)** and **Subaru Crosstrek ($25,211)**, have significantly lower price points.  \n",
    "- The wide pricing gap suggests a **diverse EV market**, catering to both high-end luxury and affordable consumer segments.  \n",
    "- **Luxury EVs dominate the high price range**, while **mass adoption is driven by lower-cost models**.  "
   ]
  },
  {
   "cell_type": "markdown",
   "metadata": {},
   "source": [
    "### 14. What is the price distribution of **clean alternative fuel eligible vs. non-eligible vehicles**?"
   ]
  },
  {
   "cell_type": "code",
   "execution_count": null,
   "metadata": {},
   "outputs": [],
   "source": [
    "# Filter the dataframe to include only relevant columns\n",
    "price_distribution = df[['Base MSRP', 'Clean Alternative Fuel Vehicle (CAFV) Eligibility']]\n",
    "\n",
    "# Create a box plot to visualize the price distribution\n",
    "fig = px.box(\n",
    "    price_distribution,\n",
    "    x='Clean Alternative Fuel Vehicle (CAFV) Eligibility',\n",
    "    y='Base MSRP',\n",
    "    title='Price Distribution of Clean Alternative Fuel Eligible vs. Non-Eligible Vehicles',\n",
    "    labels={'Clean Alternative Fuel Vehicle (CAFV) Eligibility': 'CAFV Eligibility', 'Base MSRP': 'Base MSRP'},\n",
    "    color='Clean Alternative Fuel Vehicle (CAFV) Eligibility'\n",
    ")\n",
    "\n",
    "# Update layout for better readability\n",
    "fig.update_layout(\n",
    "    xaxis_title='CAFV Eligibility',\n",
    "    yaxis_title='Base MSRP',\n",
    "    template='plotly_white',\n",
    "    width=800,\n",
    "    height=500\n",
    ")\n",
    "\n",
    "# Show the plot\n",
    "fig.show()"
   ]
  },
  {
   "cell_type": "code",
   "execution_count": null,
   "metadata": {},
   "outputs": [],
   "source": [
    "price_distribution[price_distribution['Base MSRP'] > 0] "
   ]
  },
  {
   "cell_type": "markdown",
   "metadata": {},
   "source": [
    "- **Most eligible vehicles** have their **MSRP below $100,000**, suggesting affordability in clean energy incentives.  \n",
    "- A **few high-end eligible models** exceed **$200,000**, but they are outliers in the dataset.  \n",
    "- **Non-eligible vehicles** include extreme high-priced models (e.g., Porsche 918 at **$845,000**), indicating luxury EVs may not qualify for incentives.  \n",
    "- **Unknown eligibility vehicles** are fewer in count and mostly priced within the lower-mid range.  \n",
    "- The **majority of EV incentives target affordable models**, ensuring broader adoption and accessibility.  \n",
    "\n",
    "\n",
    "\n",
    "\n",
    "\n",
    "\n"
   ]
  },
  {
   "cell_type": "markdown",
   "metadata": {},
   "source": [
    "### 15. Are **higher-priced EVs more common in certain counties or census tracts**?"
   ]
  },
  {
   "cell_type": "code",
   "execution_count": null,
   "metadata": {},
   "outputs": [],
   "source": [
    "# Average Base MSRP by each Counnty \n",
    "avg_baseMSSRP_county = df.groupby('County')['Base MSRP'].mean().reset_index(name='AVG Base MSRP').sort_values(by='AVG Base MSRP' , ascending=False)\n",
    "# Getting only those counties whose MSRP is greater than 0\n",
    "avg_baseMSSRP_county = avg_baseMSSRP_county[avg_baseMSSRP_county['AVG Base MSRP'] > 0]\n",
    "\n",
    "#Average Base MSRP for each census Tract\n",
    "avg_baseMSSRP_census = df.groupby('2020 Census Tract')['Base MSRP'].mean().reset_index(name=\"AVG Base MSRP\").sort_values(by='AVG Base MSRP' ,\n",
    "                                                                                                                          ascending=False)\n",
    "## getting Only those whose Bse msrp is greater than 0\n",
    "avg_baseMSSRP_census = avg_baseMSSRP_census[avg_baseMSSRP_census['AVG Base MSRP'] > 0]"
   ]
  },
  {
   "cell_type": "code",
   "execution_count": null,
   "metadata": {},
   "outputs": [],
   "source": [
    "# Getting top 10 Counties with highest average Base MSRP\n",
    "top_10_counties = avg_baseMSSRP_county.head(10)\n",
    "\n",
    "# Creating the figure\n",
    "fig = go.Figure()\n",
    "\n",
    "# Adding bar trace\n",
    "fig.add_trace(go.Bar(\n",
    "    x=top_10_counties['County'],\n",
    "    y=top_10_counties['AVG Base MSRP'],\n",
    "    text=top_10_counties['AVG Base MSRP'],\n",
    "    textposition='outside',\n",
    "    marker=dict(color=top_10_counties['AVG Base MSRP'], colorscale='Blues'),\n",
    "    name='Average Base MSRP'\n",
    "))\n",
    "\n",
    "# Adding a line trace to highlight trends\n",
    "fig.add_trace(go.Scatter(\n",
    "    x=top_10_counties['County'],\n",
    "    y=top_10_counties['AVG Base MSRP'],\n",
    "    mode='lines+markers',\n",
    "    name='Trend Line',\n",
    "    marker=dict(size=8, color='red'),\n",
    "    line=dict(width=2, dash='dash')\n",
    "))\n",
    "\n",
    "# Updating layout for better readability\n",
    "fig.update_layout(\n",
    "    title='Top 10 Counties with Highest Average Base MSRP',\n",
    "    xaxis_title='County',\n",
    "    yaxis_title='Average Base MSRP',\n",
    "    xaxis=dict(tickangle=-45),\n",
    "    plot_bgcolor='rgba(0,0,0,0)',\n",
    "    paper_bgcolor='white',\n",
    "    margin=dict(l=50, r=50, t=50, b=100),\n",
    "    font=dict(size=12),\n",
    "    hovermode='x',\n",
    "    showlegend=True\n",
    ")\n",
    "\n",
    "# Show the figure\n",
    "fig.show()\n"
   ]
  },
  {
   "cell_type": "markdown",
   "metadata": {},
   "source": [
    "- **Travis, Clackamas, and Multnomah counties** have the **highest average base MSRP**, indicating a preference for premium EV models.  \n",
    "- A **gradual decline in MSRP** is observed across counties, with the **lowest-priced EVs in El Paso**.  \n",
    "- **Higher-priced EVs tend to cluster in wealthier counties**, where residents may afford luxury models.  \n",
    "- The presence of **EV-friendly policies, incentives, and charging infrastructure** may influence higher adoption of premium EVs in certain areas.  \n",
    "- **Counties with lower average MSRP** suggest a preference for **more affordable, mass-market EV models**.  \n",
    "\n",
    "#### **Suggestions for Management:**\n",
    "1. **Target Premium EV Sales in Wealthier Counties**  \n",
    "   - Focus marketing efforts for **luxury EV models** in counties like **Travis, Clackamas, and Multnomah**, where high-end EVs are in demand.  \n",
    "2. **Expand Affordable EV Options in Lower-Income Counties**  \n",
    "   - Introduce **incentives or financing options** to boost adoption in regions with lower average MSRP, such as **El Paso**.  \n",
    "3. **Enhance Charging Infrastructure in High-Priced EV Areas**  \n",
    "   - Ensure that **premium EV regions** have sufficient **charging infrastructure** to support long-range electric vehicle users.  \n",
    "4. **Leverage Incentives & Rebates**  \n",
    "   - Work with **local governments** to provide **tax incentives** or **rebates** to encourage adoption of both high-end and budget-friendly EVs.  \n",
    "5. **Monitor Market Trends & Adapt Strategy**  \n",
    "   - Continuously analyze county-level **EV adoption trends** to **align product offerings** with consumer demand.  "
   ]
  },
  {
   "cell_type": "code",
   "execution_count": null,
   "metadata": {},
   "outputs": [],
   "source": [
    "avg_baseMSSRP_census.head(10).style.background_gradient(subset='AVG Base MSRP',cmap='Blues')"
   ]
  },
  {
   "cell_type": "markdown",
   "metadata": {},
   "source": [
    "### 16. How does **CAFV (Clean Alternative Fuel Vehicle) eligibility** impact EV sales trends?"
   ]
  },
  {
   "cell_type": "code",
   "execution_count": null,
   "metadata": {},
   "outputs": [],
   "source": [
    "# Getting count of each CAFV_records\n",
    "CAFV_records = df['Clean Alternative Fuel Vehicle (CAFV) Eligibility'].value_counts().reset_index()\n",
    "CAFV_records.columns = ['CAFV', 'CAFV Count'] # rename the columns\n",
    "\n",
    "# Visualization\n",
    "fig = px.pie(\n",
    "    CAFV_records,\n",
    "    names='CAFV',\n",
    "    values='CAFV Count',\n",
    "    hole=0.4,\n",
    "    color_discrete_sequence=px.colors.sequential.Blues_r,\n",
    "    title='Distribution Of CAFV_records',\n",
    ")\n",
    "\n",
    "fig.update_traces(textinfo=\"percent+label\", pull=[0.05] * len(CAFV_records))  # Slightly pull out slices for emphasis\n",
    "fig.update_layout(width=800, height=500, showlegend=True)\n",
    "fig.show()"
   ]
  },
  {
   "cell_type": "markdown",
   "metadata": {},
   "source": [
    "### Impact of CAFV Eligibility on EV Sales\n",
    "\n",
    "CAFV (Clean Alternative Fuel Vehicle) eligibility significantly influences EV sales by affecting affordability, consumer demand, and manufacturer strategies.\n",
    "\n",
    "- **Incentives & Demand**: Eligible vehicles attract buyers through **tax credits, rebates, and HOV lane access**, increasing adoption. In contrast, **\"Not eligible\"** vehicles may struggle with lower demand due to higher costs.\n",
    "- **Market Uncertainty**: The **\"Unknown\"** category creates uncertainty, potentially slowing EV adoption.\n",
    "- **Manufacturer Strategy**: Automakers align EV production with eligibility criteria, leading to a shift toward **longer-range, efficient EVs**.\n",
    "- **Regional Sales Trends**: Areas with **strong CAFV support** (e.g., California) experience **higher EV sales**, while regions with fewer incentives see slower growth.\n",
    "\n",
    "🚗⚡ Higher CAFV eligibility accelerates EV adoption, while unclear or low eligibility can hinder market expansion.\n"
   ]
  },
  {
   "cell_type": "markdown",
   "metadata": {},
   "source": [
    "### 17. Are there specific **counties where CAFV-eligible vehicles are more widely adopted**?"
   ]
  },
  {
   "cell_type": "code",
   "execution_count": null,
   "metadata": {},
   "outputs": [],
   "source": [
    "# Getting CAFV eligible vehicles\n",
    "CAFV_eligible = df[df['Clean Alternative Fuel Vehicle (CAFV) Eligibility'] == 'Eligible']\n",
    "\n",
    "# Total count of CAFV eligible vehicles\n",
    "tot_CAFV_eligible = len(CAFV_eligible)\n",
    "\n",
    "# Grouping by County to get EV count\n",
    "CAFV_eligible_count = pd.DataFrame(CAFV_eligible['County'].value_counts())\n",
    "CAFV_eligible_count.columns = ['EVs Count']\n",
    "\n",
    "# Calculating percentage\n",
    "CAFV_eligible_count['Percentage of total CAFV Eligibility'] = (\n",
    "    CAFV_eligible_count['EVs Count'] * 100 / tot_CAFV_eligible\n",
    ").round(2)\n",
    "\n",
    "# Filtering out rows where percentage is greater than 0\n",
    "CAFV_eligible_count = CAFV_eligible_count[CAFV_eligible_count['Percentage of total CAFV Eligibility'] > 0]\n",
    "\n",
    "# Display the filtered DataFrame\n",
    "CAFV_eligible_count.head()"
   ]
  },
  {
   "cell_type": "code",
   "execution_count": null,
   "metadata": {},
   "outputs": [],
   "source": [
    "# Create figure\n",
    "fig = go.Figure()\n",
    "\n",
    "# Add line trace\n",
    "fig.add_trace(go.Scatter(\n",
    "    x=CAFV_eligible_count.index,  # Use the index if 'County' is the index\n",
    "    y=CAFV_eligible_count['EVs Count'],  \n",
    "    mode='lines+markers',  \n",
    "    name='EV Count',\n",
    "    marker=dict(size=6, color='blue'),\n",
    "    line=dict(width=2, color='blue')\n",
    "))\n",
    "\n",
    "# Update layout\n",
    "fig.update_layout(\n",
    "    title='CAFV-Eligible EV Distribution Across Counties',\n",
    "    xaxis_title='County',\n",
    "    yaxis_title='EVs Count',\n",
    "    xaxis=dict(tickangle=-45, showgrid=False),\n",
    "    yaxis=dict(showgrid=True, zeroline=True),\n",
    "    hovermode='x',\n",
    "    template='plotly_white',\n",
    "    margin=dict(l=50, r=50, t=50, b=100)\n",
    ")\n",
    "\n",
    "# Show plot\n",
    "fig.show()"
   ]
  },
  {
   "cell_type": "markdown",
   "metadata": {},
   "source": [
    "### **Insights on CAFV-Eligible EV Distribution Across Counties**\n",
    "\n",
    "#### **1. Key Regions Driving EV Adoption**\n",
    "- **King County dominates EV adoption** with **48.79%** of all CAFV-eligible EVs, followed by Snohomish (10.62%) and Pierce (7.75%).  \n",
    "- These counties likely have **strong incentives, better EV infrastructure, and higher consumer interest** in clean energy vehicles.  \n",
    "\n",
    "#### **2. Growth Opportunities in Mid-Tier Counties**\n",
    "- Counties such as **Clark (6.31%), Thurston (3.94%), and Kitsap (3.64%)** have moderate EV adoption rates.  \n",
    "- Targeted policies, such as **increased charging stations, financial incentives, and EV awareness campaigns**, could further drive adoption.  \n",
    "\n",
    "#### **3. Areas with Low EV Penetration**\n",
    "- Several counties, including **Whitman (0.19%), Pacific (0.17%), and Okanogan (0.16%)**, have minimal EV adoption.  \n",
    "- Some counties, such as **Pend Oreille (0.03%) and Ferry (0.02%)**, show extremely low uptake, highlighting **significant infrastructure or awareness gaps**.  \n",
    "- Out-of-state counties like **San Diego, Fairfax, and Montgomery** have **negligible** presence, indicating potential cross-border market opportunities.  \n",
    "\n",
    "#### **4. Strategic Recommendations**\n",
    "- **Expand EV incentives**: Provide subsidies or tax benefits in mid and low-adoption counties.  \n",
    "- **Improve charging infrastructure**: Address infrastructure gaps in low-EV-adoption regions.  \n",
    "- **Enhance public awareness**: Promote EV benefits in underperforming regions through targeted outreach.  \n",
    "\n",
    "By focusing on these areas, we can **maximize EV adoption, optimize infrastructure investments, and align strategies** with regional demands. 🚗⚡  \n"
   ]
  },
  {
   "cell_type": "markdown",
   "metadata": {},
   "source": [
    "### 18. How has the **EV market share changed over time (by model year)?**"
   ]
  },
  {
   "cell_type": "code",
   "execution_count": null,
   "metadata": {},
   "outputs": [],
   "source": [
    "# Grouping data by Model Year and counting EVs\n",
    "ev_market_share_by_year = df.groupby('Model Year').size().reset_index(name='EV Count')\n",
    "\n",
    "# Creating the line chart\n",
    "fig = px.line(\n",
    "    ev_market_share_by_year,\n",
    "    x='Model Year',\n",
    "    y='EV Count',\n",
    "    title='<b>📈 EV Market Share Over Time (by Model Year)</b>',\n",
    "    labels={'Model Year': 'Model Year', 'EV Count': 'Number of EVs'},\n",
    "    markers=True\n",
    ")\n",
    "\n",
    "# Enhancing traces for better visibility\n",
    "fig.update_traces(\n",
    "    mode='lines+markers',\n",
    "    marker=dict(size=8, color='blue', opacity=0.8, symbol='circle'),\n",
    "    line=dict(width=3, color='blue', dash='solid')\n",
    ")\n",
    "\n",
    "# Updating layout for better readability\n",
    "fig.update_layout(\n",
    "    xaxis=dict(\n",
    "        title='<b>Model Year</b>',\n",
    "        tickangle=-45,  # Rotating for better spacing\n",
    "        showgrid=True,\n",
    "        gridcolor='lightgray',\n",
    "        tickmode='linear',\n",
    "        tickfont=dict(size=12)\n",
    "    ),\n",
    "    yaxis=dict(\n",
    "        title='<b>Number of EVs</b>',\n",
    "        showgrid=True,\n",
    "        gridcolor='lightgray',\n",
    "        zeroline=True\n",
    "    ),\n",
    "    hovermode='x unified',  # Improved hover experience\n",
    "    template='plotly_white',\n",
    "    width=1100,\n",
    "    height=600,\n",
    "    margin=dict(l=60, r=50, t=70, b=80),\n",
    "    font=dict(size=14),\n",
    "    title_font=dict(size=18)  # Enlarged title font\n",
    ")\n",
    "\n",
    "# Show the plot\n",
    "fig.show()\n"
   ]
  },
  {
   "cell_type": "markdown",
   "metadata": {},
   "source": [
    "### 📊 EV Market Share Trend Over Time (by Model Year)\n",
    "\n",
    "### 🔍 Key Insights:\n",
    "- EV adoption remained **negligible before 2010**.\n",
    "- A **steady increase** began around **2012**, followed by **rapid growth after 2018**.\n",
    "- The **highest adoption** occurred in **2023**, surpassing **60,000 EVs**.\n",
    "- A decline is observed in **2024 & 2025**, likely due to incomplete data or recent market shifts.\n",
    "\n",
    "### 📢 Recommendations:\n",
    "1. **Sustain Growth Momentum:**  \n",
    "   - Expand **charging infrastructure & incentives** to maintain adoption rates.  \n",
    "\n",
    "2. **Address Recent Decline:**  \n",
    "   - Investigate reasons for the **2024–2025 drop** (policy changes, supply chain issues, or economic factors).  \n",
    "\n",
    "3. **Encourage Newer Models:**  \n",
    "   - Promote the **latest EV models** through **subsidies, awareness campaigns, and financing options**.  \n",
    "\n",
    "Strategic actions can ensure **continued EV market expansion**. 🚀⚡  \n"
   ]
  },
  {
   "cell_type": "markdown",
   "metadata": {},
   "source": [
    "### 19. Which **models and manufacturers qualify the most for CAFV eligibility**?"
   ]
  },
  {
   "cell_type": "code",
   "execution_count": null,
   "metadata": {},
   "outputs": [],
   "source": [
    "# Filter the dataframe for CAFV eligible vehicles\n",
    "cafv_eligible_vehicles = df[df['Clean Alternative Fuel Vehicle (CAFV) Eligibility'] == 'Eligible']\n",
    "\n",
    "# Group by Make and Model to get the count of eligible vehicles\n",
    "cafv_eligible_count = cafv_eligible_vehicles.groupby(['Make', 'Model']).size().reset_index(name='Count')\n",
    "\n",
    "# Sort the data by count in descending order to get the top models and manufacturers\n",
    "cafv_eligible_count = cafv_eligible_count.sort_values(by='Count', ascending=False).head(10)\n",
    "\n",
    "# Visualization\n",
    "fig = px.bar(\n",
    "    cafv_eligible_count,\n",
    "    x='Model',\n",
    "    y='Count',\n",
    "    color='Make',\n",
    "    text='Count',\n",
    "    title='Top 10 CAFV Eligible Electric Vehicle Models by Count',\n",
    "    labels={'Model': 'EV Model', 'Count': 'Number of Vehicles', 'Make': 'Manufacturer'},\n",
    "    color_discrete_sequence=px.colors.sequential.Blues_r\n",
    ")\n",
    "\n",
    "fig.update_traces(\n",
    "    textposition='outside',\n",
    "    marker=dict(line=dict(width=1, color='black'))\n",
    ")\n",
    "\n",
    "fig.update_layout(\n",
    "    xaxis=dict(title='EV Model', tickangle=-45),\n",
    "    yaxis=dict(title='Number of Vehicles', showgrid=True),\n",
    "    hovermode='x',\n",
    "    template='plotly_white',\n",
    "    width=1000,\n",
    "    height=600,\n",
    "    margin=dict(l=50, r=50, t=70, b=100),\n",
    "    font=dict(size=14)\n",
    ")\n",
    "\n",
    "fig.show()"
   ]
  },
  {
   "cell_type": "markdown",
   "metadata": {},
   "source": [
    "### 🚗 Top CAFV-Eligible EV Models & Manufacturers\n",
    "\n",
    "### 🔍 Key Insights:\n",
    "- **Tesla dominates** the CAFV eligibility list, with **Model 3 (13,506)** leading, followed by **Model S (5,849)** and **Model X (3,221)**.\n",
    "- **Nissan Leaf** ranks second overall with **10,369** vehicles, showing strong adoption.\n",
    "- **Chevrolet’s Bolt EV (4,760) and Volt (4,720)** also have significant CAFV-qualified counts.\n",
    "- **Toyota, Chrysler, and BMW** have moderate representation, with **RAV4 Prime (3,515), Pacifica (3,733), and X5 (2,328)**.\n",
    "\n",
    "### 📢 Recommendations:\n",
    "1. **Leverage Tesla’s Popularity**  \n",
    "   - Expand Tesla’s CAFV eligibility programs to sustain market leadership.  \n",
    "\n",
    "2. **Encourage Nissan & Chevrolet**  \n",
    "   - Promote **Nissan Leaf and Chevrolet EVs** through **tax incentives** and **subsidies**.  \n",
    "\n",
    "3. **Increase Model Variety**  \n",
    "   - Encourage **other manufacturers (Toyota, Chrysler, BMW)** to introduce **more CAFV-eligible models**.  \n",
    "\n",
    "A diverse EV ecosystem will boost **CAFV adoption & sustainability goals**. ⚡🌱  \n"
   ]
  },
  {
   "cell_type": "markdown",
   "metadata": {},
   "source": [
    "### **4️⃣ Environmental & Regulatory Considerations**\n",
    "#### 20. What is the impact of **local policies or incentives** on EV adoption rates in different counties?"
   ]
  },
  {
   "cell_type": "code",
   "execution_count": null,
   "metadata": {},
   "outputs": [],
   "source": [
    "# Grouping data by County to get the average Base MSRP and count of EVs\n",
    "ev_adoption_incentives = df.groupby('County').agg({'Base MSRP': 'mean', 'VIN (1-10)': 'count'}).reset_index()\n",
    "ev_adoption_incentives.columns = ['County', 'Avg Base MSRP', 'EV Count']\n",
    "\n",
    "# Sorting the data by EV Count in descending order to identify top counties\n",
    "ev_adoption_incentives = ev_adoption_incentives.sort_values(by='EV Count', ascending=False)\n",
    "\n",
    "# Visualization\n",
    "fig = px.scatter(\n",
    "    ev_adoption_incentives,\n",
    "    x='Avg Base MSRP',\n",
    "    y='EV Count',\n",
    "    size='EV Count',\n",
    "    color='EV Count',\n",
    "    hover_name='County',\n",
    "    title='Impact of Local Policies or Incentives on EV Adoption Rates',\n",
    "    labels={'Avg Base MSRP': 'Average Base MSRP', 'EV Count': 'EV Count'},\n",
    "    template='plotly_white'\n",
    ")\n",
    "\n",
    "fig.update_traces(marker=dict(line=dict(width=1, color='black')))\n",
    "fig.update_layout(\n",
    "    xaxis=dict(showgrid=True, gridcolor='lightgray'),\n",
    "    yaxis=dict(showgrid=True, gridcolor='lightgray'),\n",
    "    width=1000,\n",
    "    height=600\n",
    ")\n",
    "\n",
    "fig.show()"
   ]
  },
  {
   "cell_type": "markdown",
   "metadata": {},
   "source": [
    "### Analysis of Local Policies and Incentives on EV Adoption Rates\n",
    "\n",
    "The scatter plot visualizes the relationship between **Average Base MSRP (Manufacturer's Suggested Retail Price)** and **EV adoption rates** across different counties. The key insights are:\n",
    "\n",
    "- **Higher EV Adoption with Incentives:** Counties with strong **local policies** or **financial incentives** show significantly **higher EV adoption rates**, even at lower price ranges.\n",
    "- **Substantial Adoption in Lower MSRP Range:** The majority of EVs fall within a **lower MSRP range**, suggesting that affordability plays a crucial role in adoption.\n",
    "- **Policy-Driven High EV Count:** The largest bubble represents a county with a significantly high **EV count**, likely driven by robust **incentives, subsidies, or infrastructure support**.\n",
    "\n",
    "### Conclusion\n",
    "The data suggests that **local policies, rebates, and incentives** significantly impact EV adoption, particularly in counties with strong government support. Future adoption strategies should focus on **reducing costs and expanding incentives** to encourage wider adoption.\n"
   ]
  },
  {
   "cell_type": "markdown",
   "metadata": {},
   "source": [
    "# Final Insights and Management Recommendations\n",
    "---\n",
    "\n",
    "## **Management Recommendations:**\n",
    "- **Expand Charging Infrastructure**: Prioritize counties where PHEVs dominate and BEV adoption lags.\n",
    "- **Targeted Incentives**: Offer rebates in regions with lower EV adoption to boost affordability.\n",
    "- **Promote Affordable EV Models**: Highlight budget-friendly options to encourage adoption.\n",
    "- **Data-Driven Expansion Strategy**: Focus marketing and dealership expansion in high-income counties.\n"
   ]
  }
 ],
 "metadata": {
  "kernelspec": {
   "display_name": "base",
   "language": "python",
   "name": "python3"
  },
  "language_info": {
   "codemirror_mode": {
    "name": "ipython",
    "version": 3
   },
   "file_extension": ".py",
   "mimetype": "text/x-python",
   "name": "python",
   "nbconvert_exporter": "python",
   "pygments_lexer": "ipython3",
   "version": "3.12.7"
  }
 },
 "nbformat": 4,
 "nbformat_minor": 2
}
